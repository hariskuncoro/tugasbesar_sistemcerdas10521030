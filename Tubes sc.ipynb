{
 "cells": [
  {
   "cell_type": "code",
   "execution_count": 13,
   "metadata": {},
   "outputs": [],
   "source": [
    "import cv2\n",
    "\n"
   ]
  },
  {
   "cell_type": "code",
   "execution_count": 14,
   "metadata": {},
   "outputs": [],
   "source": [
    "facecasecade= cv2.CascadeClassifier(\"Haarcasecade/facecasecade.xml\")\n",
    "nosecasecade= cv2.CascadeClassifier(\"Haarcasecade/nosecasecade.xml\")\n",
    "mouthcasecade= cv2.CascadeClassifier(\"Haarcasecade/mouthcasecade.xml\")"
   ]
  },
  {
   "cell_type": "code",
   "execution_count": 15,
   "metadata": {},
   "outputs": [],
   "source": [
    "video_capture = cv2.VideoCapture(0)\n",
    "mask_on = False\n",
    "\n",
    "while True:\n",
    "    ret, frame = video_capture.read()\n",
    "    gray = cv2.cvtColor(frame, cv2.COLOR_BGR2GRAY)\n",
    "    wajah = facecasecade.detectMultiScale(gray, 1.1, 5, 2)\n",
    "    roi_gray = gray\n",
    "    \n",
    "    for (x, z, w, m) in wajah:\n",
    "        roi_gray = gray[x:x+w, z:z+m]\n",
    "        roi_color = frame[x:x+w, z:z+m]\n",
    "        if mask_on:\n",
    "            cv2.rectangle(frame, (x, z), (x+w, z+m), (0, 300,0), 5)\n",
    "            cv2.putText(frame,'Masker On',(x,z), cv2.FONT_HERSHEY_SIMPLEX, 2,(0,255,0),5)\n",
    "        else:\n",
    "            cv2.rectangle(frame, (x, z), (x+w, z+m), (300, 300,300), 5)\n",
    "            cv2.putText(frame,'Masker Off',(x, z), cv2.FONT_HERSHEY_SIMPLEX, 2,(0,0,255,0),5)\n",
    "        \n",
    "    for (x, y, w, h) in wajah:\n",
    "        roi_gray = gray[y:y+h, x:x+w]\n",
    "        roi_color = frame[y:y+h, x:x+w]\n",
    "        if mask_on:\n",
    "            cv2.rectangle(frame, (x, y), (x+w, y+h), (0, 300,0), 5)\n",
    "            cv2.putText(frame,'Masker On',(x,y), cv2.FONT_HERSHEY_SIMPLEX, 2,(0,255,0),5)\n",
    "        else:\n",
    "            cv2.rectangle(frame, (x, y), (x+w, y+h), (300, 300,300), 5)\n",
    "            cv2.putText(frame,'Masker Off',(x, y), cv2.FONT_HERSHEY_SIMPLEX, 2,(0,0,255,0),5)\n",
    "        \n",
    "    hidung = nosecasecade.detectMultiScale(roi_gray, 1.18, 35,)\n",
    "    for (sx, sy, sw, sh) in hidung:\n",
    "        cv2.rectangle(roi_color, (sh, sy), (sx+sw, sy+sh), (250, 250, 250), 2)\n",
    "        cv2.putText(frame, 'Hidung',(x + sx,y + sy), 1, 1, (250, 250, 250), 2)\n",
    "        \n",
    "    mulut = mouthcasecade.detectMultiScale(roi_gray, 1.18, 35,)\n",
    "    for (sx, sz, sw, sm) in mulut:\n",
    "        cv2.rectangle(roi_color, (sm, sz), (sx+sw, sz+sm), (250, 250, 250), 2)\n",
    "        cv2.putText(frame, 'Mulut',(x + sx,z + sz), 1, 1, (250, 250, 250), 2)\n",
    "        \n",
    "    if len(hidung)==0:\n",
    "        if len (mulut)==0:\n",
    "                mask_on = True\n",
    "    else:\n",
    "        mask_on = False\n",
    "        \n",
    "    cv2.putText(frame,'Wajah : ' + str(len(wajah)), (50, 50), cv2.FONT_HERSHEY_SIMPLEX, 1,(250,250,250),3)\n",
    "    cv2.imshow('Video', frame)\n",
    "    \n",
    "    if cv2.waitKey(1) & 0xFF == ord('q'):\n",
    "        break\n",
    "\n",
    "video_capture.release()\n",
    "cv2.destroyAllWindows()"
   ]
  },
  {
   "cell_type": "code",
   "execution_count": null,
   "metadata": {},
   "outputs": [],
   "source": []
  },
  {
   "cell_type": "code",
   "execution_count": null,
   "metadata": {},
   "outputs": [],
   "source": []
  }
 ],
 "metadata": {
  "kernelspec": {
   "display_name": "Python 3",
   "language": "python",
   "name": "python3"
  },
  "language_info": {
   "codemirror_mode": {
    "name": "ipython",
    "version": 3
   },
   "file_extension": ".py",
   "mimetype": "text/x-python",
   "name": "python",
   "nbconvert_exporter": "python",
   "pygments_lexer": "ipython3",
   "version": "3.8.6"
  }
 },
 "nbformat": 4,
 "nbformat_minor": 4
}
